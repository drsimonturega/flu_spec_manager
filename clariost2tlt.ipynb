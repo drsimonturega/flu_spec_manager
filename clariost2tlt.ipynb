{
  "nbformat": 4,
  "nbformat_minor": 0,
  "metadata": {
    "colab": {
      "provenance": [],
      "authorship_tag": "ABX9TyPXnbrIzF2m7Y6uhd6mS1D8",
      "include_colab_link": true
    },
    "kernelspec": {
      "name": "python3",
      "display_name": "Python 3"
    },
    "language_info": {
      "name": "python"
    }
  },
  "cells": [
    {
      "cell_type": "markdown",
      "metadata": {
        "id": "view-in-github",
        "colab_type": "text"
      },
      "source": [
        "<a href=\"https://colab.research.google.com/github/drsimonturega/flu_spec_manager/blob/main/clariost2tlt.ipynb\" target=\"_parent\"><img src=\"https://colab.research.google.com/assets/colab-badge.svg\" alt=\"Open In Colab\"/></a>"
      ]
    },
    {
      "cell_type": "markdown",
      "source": [
        "# Absorbtion and fluorescence spectral manipulation: clario star *.csv to long thin *.csv\n",
        "### One experiment at a time\n",
        "### You need to be logged into your google acount to use this code\n",
        "### There are three sections of code that need to be run in sequence;\n",
        "- ### Lab book code for this experiemnt\n",
        "- ### Upload your clario star *.csv spectra file (*.csv spectra file from a clario star platereader)\n",
        "- ### Extract data from *.csv to transposed long thin*.csv\n",
        "\n",
        "### This will provide a *.zip file for down load your orginal file and your spectra as a transposed long thin *.csv."
      ],
      "metadata": {
        "id": "o4VDK8px0rNa"
      }
    },
    {
      "cell_type": "code",
      "source": [],
      "metadata": {
        "id": "aETlwIZT1kzV"
      },
      "execution_count": null,
      "outputs": []
    }
  ]
}